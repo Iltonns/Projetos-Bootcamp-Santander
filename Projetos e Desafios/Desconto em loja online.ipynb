{
 "cells": [
  {
   "cell_type": "code",
   "execution_count": 2,
   "id": "43957c26",
   "metadata": {},
   "outputs": [
    {
     "name": "stdout",
     "output_type": "stream",
     "text": [
      "50.0\n"
     ]
    }
   ],
   "source": [
    "descontos = {\n",
    "    \"DESCONTO10\": 0.10,\n",
    "    \"DESCONTO20\": 0.20,\n",
    "    \"SEM_DESCONTO\": 0.00\n",
    "}\n",
    "\n",
    "preco = float(input())\n",
    "cupom = input().strip().upper()\n",
    "\n",
    "if preco == 100:\n",
    "    desconto = descontos[\"DESCONTO10\"]\n",
    "    \n",
    "elif preco == 200:\n",
    "    desconto = descontos[\"DESCONTO20\"]\n",
    "  \n",
    "else:\n",
    "    desconto = descontos[\"SEM_DESCONTO\"]\n",
    "   \n",
    "valor_desconto = preco * desconto\n",
    "preco_final = preco - valor_desconto\n",
    "print(preco_final)"
   ]
  },
  {
   "cell_type": "code",
   "execution_count": null,
   "id": "6828612e",
   "metadata": {},
   "outputs": [],
   "source": [
    "descontos = {\n",
    "    \"DESCONTO10\": 0.10,\n",
    "    \"DESCONTO20\": 0.20,\n",
    "    \"SEM_DESCONTO\": 0.00\n",
    "}\n",
    "\n",
    "preco = float(input())\n",
    "cupom = input().strip().upper()\n",
    "\n",
    "if cupom in descontos:\n",
    "    desconto = descontos[cupom]\n",
    "    preco_final = preco * (1 - desconto)\n",
    "    print(f\"{preco_final:.2f}\")\n",
    "else:\n",
    "    print(\"Cupom inválido\")"
   ]
  }
 ],
 "metadata": {
  "kernelspec": {
   "display_name": "Python 3",
   "language": "python",
   "name": "python3"
  },
  "language_info": {
   "codemirror_mode": {
    "name": "ipython",
    "version": 3
   },
   "file_extension": ".py",
   "mimetype": "text/x-python",
   "name": "python",
   "nbconvert_exporter": "python",
   "pygments_lexer": "ipython3",
   "version": "3.13.4"
  }
 },
 "nbformat": 4,
 "nbformat_minor": 5
}

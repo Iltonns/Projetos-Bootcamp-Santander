{
 "cells": [
  {
   "cell_type": "code",
   "execution_count": null,
   "id": "f936a02d",
   "metadata": {},
   "outputs": [
    {
     "name": "stdout",
     "output_type": "stream",
     "text": [
      "E-mail inválido\n"
     ]
    }
   ],
   "source": [
    "\n",
    "# Define uma função chamada validar_email que recebe um parâmetro chamado email\n",
    "# Essa função será responsável por verificar se o e-mail informado é válido ou não\n",
    "def validar_email(email):\n",
    "    # Verifica se o caractere \"@\" está presente no e-mail e se aparece apenas uma vez\n",
    "    # O método count conta quantas vezes um caractere aparece na string\n",
    "    # O operador \"not in\" verifica se o @ não existe no email.\n",
    "    if \"@\" not in email or email.count(\"@\") != 1: \n",
    "        return \"E-mail inválido\"  # Retorna uma mensagem se a condição acima for verdadeira\n",
    "\n",
    "    # Verifica se o e-mail começa ou termina com \"@\"\n",
    "    # O método startswith verifica se a string começa com o valor informado\n",
    "    # O método endswith verifica se a string termina com o valor informado\n",
    "    if email.startswith(\"@\") or email.endswith(\"@\"):\n",
    "        return \"E-mail inválido\"  # Retorna uma mensagem se a condição acima for verdadeira\n",
    "\n",
    "    # Verifica se o e-mail contém espaços em branco\n",
    "    # O operador \"in\" verifica se existe um determinado caractere na string\n",
    "    if \" \" in email:\n",
    "        return \"E-mail inválido\"  # Retorna uma mensagem se a condição acima for verdadeira\n",
    "\n",
    "    # Se passou por todas as verificações acima, considera o e-mail válido\n",
    "    return \"E-mail válido\"  # Retorna uma mensagem indicando que o e-mail é válido\n",
    "\n",
    "# Solicita ao usuário que digite um e-mail para validar\n",
    "# A função input exibe uma mensagem e aguarda o usuário digitar um valor\n",
    "email_digitado = input(\"Digite um e-mail para validar: \")\n",
    "\n",
    "# Chama a função validar_email passando o e-mail digitado como argumento\n",
    "# O resultado da validação é armazenado na variável resultado\n",
    "resultado = validar_email(email_digitado)\n",
    "\n",
    "# Exibe o resultado da validação na tela\n",
    "# A função print exibe informações no console\n",
    "print(resultado)\n",
    "\n"
   ]
  }
 ],
 "metadata": {
  "kernelspec": {
   "display_name": "Python 3",
   "language": "python",
   "name": "python3"
  },
  "language_info": {
   "codemirror_mode": {
    "name": "ipython",
    "version": 3
   },
   "file_extension": ".py",
   "mimetype": "text/x-python",
   "name": "python",
   "nbconvert_exporter": "python",
   "pygments_lexer": "ipython3",
   "version": "3.13.4"
  }
 },
 "nbformat": 4,
 "nbformat_minor": 5
}

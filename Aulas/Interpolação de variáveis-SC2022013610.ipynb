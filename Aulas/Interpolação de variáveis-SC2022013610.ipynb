{
 "cells": [
  {
   "cell_type": "code",
   "execution_count": null,
   "id": "b37a411b",
   "metadata": {},
   "outputs": [],
   "source": [
    "nome = 'Eleilton'\n",
    "idade = 32\n",
    "profissao = \"Análista de dados\"\n",
    "linguagem = 'Python'\n",
    "saldo = 45.1234\n",
    "\n",
    "dados = {'nome': 'Eleilton', 'idade': 28}\n",
    "\n",
    "print(\"Nome: %s Idade: %s\" % (nome, idade))\n",
    "print(\"Nome: {} Idade: {}\".format(nome, idade))\n",
    "print(\"Nome: {0} Idade: {1} nome: {0} {0}\".format(nome, idade))\n",
    "print(\"Nome: {0} Idade: {1}\".format(nome, idade))\n",
    "\n",
    "print(\"Nome: {nome} Idade: {idade}\".format(**dados))\n",
    "print(f\"Nome: {nome} Idade: {idade}\")\n",
    "print(f\"Nome: {nome} Idade: {idade} saldo: {saldo:.2f}\")"
   ]
  }
 ],
 "metadata": {
  "language_info": {
   "name": "python"
  }
 },
 "nbformat": 4,
 "nbformat_minor": 5
}

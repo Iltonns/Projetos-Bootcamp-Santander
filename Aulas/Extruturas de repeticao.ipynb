{
 "cells": [
  {
   "cell_type": "code",
   "execution_count": null,
   "id": "343ce73c",
   "metadata": {},
   "outputs": [],
   "source": [
    "nome = 'Eleilton'\n",
    "sobrenome = 'Santos'\n",
    "\n",
    "print(nome, sobrenome)\n",
    "print(nome, sobrenome, end='...\\n')\n",
    "print(nome, sobrenome, sep='#')"
   ]
  },
  {
   "cell_type": "code",
   "execution_count": null,
   "id": "04ccfe57",
   "metadata": {},
   "outputs": [],
   "source": [
    "# Exemplo de for com um iterável\n",
    "texto = input(\"Digite um testo: \")\n",
    "VOGAIS = \"AEIOU\"\n",
    "\n",
    "for letra in texto:\n",
    "    if letra.upper() in VOGAIS:\n",
    "        print(letra, end='')"
   ]
  },
  {
   "cell_type": "code",
   "execution_count": null,
   "id": "4ca654de",
   "metadata": {},
   "outputs": [],
   "source": [
    "# Exemplo de for com um range()\n",
    "for numero in range(0, 51, 5):\n",
    "    print(numero, end=\" \")"
   ]
  },
  {
   "cell_type": "code",
   "execution_count": null,
   "id": "3c156977",
   "metadata": {},
   "outputs": [],
   "source": [
    "# While\n",
    "opcao = -1\n",
    "\n",
    "while opcao != 0:\n",
    "    opcao = int(input('[1] Sacar \\n[2] Extrato \\n[3] Sair \\n: '))\n",
    "\n",
    "    if opcao == 1:\n",
    "        print('Sacando...')\n",
    "\n",
    "    elif opcao == 2:\n",
    "        print(\"Exibindo Extrato...\")\n",
    "\n",
    "else:\n",
    "    print('Obrigado po rusar nosso sistema bancário. Até logo!')"
   ]
  },
  {
   "cell_type": "code",
   "execution_count": null,
   "id": "df5162eb",
   "metadata": {},
   "outputs": [],
   "source": [
    "# While com Break em Loopin infinito\n",
    "while True:\n",
    "    numero = int(input(\"Digite um numero: \"))\n",
    "     \n",
    "    if numero == 10:\n",
    "        break\n",
    "\n",
    "    print(numero)"
   ]
  },
  {
   "cell_type": "code",
   "execution_count": null,
   "id": "f4b7c3f5",
   "metadata": {},
   "outputs": [],
   "source": [
    "# While com Break no for\n",
    "for numero in range(100):\n",
    "\n",
    "    if numero == 10:\n",
    "        break\n",
    "\n",
    "    print(numero)"
   ]
  },
  {
   "cell_type": "code",
   "execution_count": null,
   "id": "02790c16",
   "metadata": {},
   "outputs": [],
   "source": [
    "# While com continue no for\n",
    "for numero in range(100):\n",
    "\n",
    "    if numero == 10:\n",
    "        continue\n",
    "\n",
    "    print(numero)  "
   ]
  },
  {
   "cell_type": "code",
   "execution_count": 21,
   "id": "42780feb",
   "metadata": {},
   "outputs": [
    {
     "name": "stdout",
     "output_type": "stream",
     "text": [
      "50.0\n"
     ]
    }
   ],
   "source": [
    "descontos = {\n",
    "    \"DESCONTO10\": 0.10,\n",
    "    \"DESCONTO20\": 0.20,\n",
    "    \"SEM_DESCONTO\": 0.00\n",
    "}\n",
    "\n",
    "preco = float(input())\n",
    "cupom = input().strip().upper()\n",
    "\n",
    "if preco == 100:\n",
    "    desconto = descontos[\"DESCONTO10\"]\n",
    "    \n",
    "elif preco == 200:\n",
    "    desconto = descontos[\"DESCONTO20\"]\n",
    "  \n",
    "elif preco == 50:\n",
    "    desconto = descontos[\"SEM_DESCONTO\"]\n",
    "   \n",
    "valor_desconto = preco * desconto\n",
    "preco_final = preco - valor_desconto\n",
    "print(preco_final)   \n",
    "  "
   ]
  }
 ],
 "metadata": {
  "kernelspec": {
   "display_name": "Python 3",
   "language": "python",
   "name": "python3"
  },
  "language_info": {
   "codemirror_mode": {
    "name": "ipython",
    "version": 3
   },
   "file_extension": ".py",
   "mimetype": "text/x-python",
   "name": "python",
   "nbconvert_exporter": "python",
   "pygments_lexer": "ipython3",
   "version": "3.13.4"
  }
 },
 "nbformat": 4,
 "nbformat_minor": 5
}
